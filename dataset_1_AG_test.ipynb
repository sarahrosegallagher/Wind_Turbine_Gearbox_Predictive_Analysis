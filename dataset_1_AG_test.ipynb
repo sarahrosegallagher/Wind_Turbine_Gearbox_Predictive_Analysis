{
 "cells": [
  {
   "cell_type": "code",
<<<<<<< HEAD
<<<<<<< HEAD
   "execution_count": 37,
=======
   "execution_count": 1,
>>>>>>> cleanest
=======
   "execution_count": 1,
>>>>>>> 3b27d97c7658c4bf0221b1d6e277364a11bf2797
   "id": "b294be28",
   "metadata": {},
   "outputs": [],
   "source": [
    "import pandas as pd\n",
    "import matplotlib.pyplot as plt\n",
    "%matplotlib inline"
   ]
  },
  {
   "cell_type": "code",
<<<<<<< HEAD
<<<<<<< HEAD
   "execution_count": 43,
=======
   "execution_count": 2,
>>>>>>> cleanest
=======
   "execution_count": 2,
>>>>>>> 3b27d97c7658c4bf0221b1d6e277364a11bf2797
   "id": "374e9d55",
   "metadata": {},
   "outputs": [
    {
     "data": {
      "text/html": [
       "<div>\n",
       "<style scoped>\n",
       "    .dataframe tbody tr th:only-of-type {\n",
       "        vertical-align: middle;\n",
       "    }\n",
       "\n",
       "    .dataframe tbody tr th {\n",
       "        vertical-align: top;\n",
       "    }\n",
       "\n",
       "    .dataframe thead th {\n",
       "        text-align: right;\n",
       "    }\n",
       "</style>\n",
       "<table border=\"1\" class=\"dataframe\">\n",
       "  <thead>\n",
       "    <tr style=\"text-align: right;\">\n",
       "      <th></th>\n",
       "      <th>TimeStampLocalSystem</th>\n",
       "      <th>Name</th>\n",
       "      <th>Systemname</th>\n",
       "      <th>Minute10Average</th>\n",
       "    </tr>\n",
       "  </thead>\n",
       "  <tbody>\n",
       "    <tr>\n",
       "      <th>0</th>\n",
       "      <td>2019-10-01 00:10:00</td>\n",
       "      <td>Active power reference setpoint</td>\n",
       "      <td>NaN</td>\n",
       "      <td>50</td>\n",
       "    </tr>\n",
       "    <tr>\n",
       "      <th>1</th>\n",
       "      <td>2019-10-01 00:10:00</td>\n",
       "      <td>Actual active power</td>\n",
       "      <td>NaN</td>\n",
       "      <td>10</td>\n",
       "    </tr>\n",
       "    <tr>\n",
       "      <th>2</th>\n",
       "      <td>2019-10-01 00:10:00</td>\n",
       "      <td>Blade 1 actual value</td>\n",
       "      <td>Hawa01</td>\n",
       "      <td>2</td>\n",
       "    </tr>\n",
       "    <tr>\n",
       "      <th>3</th>\n",
       "      <td>2019-10-01 00:10:00</td>\n",
       "      <td>Blade 1 actual value</td>\n",
       "      <td>Hawa02</td>\n",
       "      <td>2</td>\n",
       "    </tr>\n",
       "    <tr>\n",
       "      <th>4</th>\n",
       "      <td>2019-10-01 00:10:00</td>\n",
       "      <td>Blade 1 actual value</td>\n",
       "      <td>Hawa03</td>\n",
       "      <td>2</td>\n",
       "    </tr>\n",
       "  </tbody>\n",
       "</table>\n",
       "</div>"
      ],
      "text/plain": [
       "  TimeStampLocalSystem                             Name Systemname  \\\n",
       "0  2019-10-01 00:10:00  Active power reference setpoint        NaN   \n",
       "1  2019-10-01 00:10:00              Actual active power        NaN   \n",
       "2  2019-10-01 00:10:00             Blade 1 actual value     Hawa01   \n",
       "3  2019-10-01 00:10:00             Blade 1 actual value     Hawa02   \n",
       "4  2019-10-01 00:10:00             Blade 1 actual value     Hawa03   \n",
       "\n",
       "   Minute10Average  \n",
       "0               50  \n",
       "1               10  \n",
       "2                2  \n",
       "3                2  \n",
       "4                2  "
      ]
     },
<<<<<<< HEAD
<<<<<<< HEAD
     "execution_count": 43,
=======
     "execution_count": 2,
>>>>>>> cleanest
=======
     "execution_count": 2,
>>>>>>> 3b27d97c7658c4bf0221b1d6e277364a11bf2797
     "metadata": {},
     "output_type": "execute_result"
    }
   ],
   "source": [
    "full_data = pd.read_csv(\"WTG_component_Active.csv\")\n",
    "full_df = pd.DataFrame(full_data)\n",
    "full_df['TimeStampLocalSystem'] = pd.to_datetime(full_df['TimeStampLocalSystem'])\n",
    "full_df.head()"
   ]
  },
  {
   "cell_type": "code",
<<<<<<< HEAD
<<<<<<< HEAD
   "execution_count": 44,
=======
   "execution_count": 3,
>>>>>>> cleanest
=======
   "execution_count": 3,
>>>>>>> 3b27d97c7658c4bf0221b1d6e277364a11bf2797
   "id": "7e23e3fd",
   "metadata": {},
   "outputs": [
    {
     "data": {
      "text/plain": [
       "Index(['TimeStampLocalSystem', 'Name', 'Systemname', 'Minute10Average'], dtype='object')"
      ]
     },
<<<<<<< HEAD
<<<<<<< HEAD
     "execution_count": 44,
=======
     "execution_count": 3,
>>>>>>> cleanest
=======
     "execution_count": 3,
>>>>>>> 3b27d97c7658c4bf0221b1d6e277364a11bf2797
     "metadata": {},
     "output_type": "execute_result"
    }
   ],
   "source": [
    "full_df.keys()"
   ]
  },
  {
   "cell_type": "code",
   "execution_count": 53,
   "id": "c6c2f341",
   "metadata": {},
   "outputs": [
    {
     "data": {
      "text/plain": [
       "(9751528, 4)"
      ]
     },
     "execution_count": 53,
     "metadata": {},
     "output_type": "execute_result"
    }
   ],
   "source": [
    "full_df.shape"
   ]
  },
  {
   "cell_type": "code",
   "execution_count": 45,
   "id": "6128a509",
   "metadata": {},
   "outputs": [
    {
     "data": {
      "text/plain": [
       "['Active power reference setpoint',\n",
       " 'Actual active power',\n",
       " 'Blade 1 actual value',\n",
       " 'Blade 2 actual value A',\n",
       " 'Blade 3 actual value A',\n",
       " 'Gear oil Temperature near heating elements',\n",
       " 'Gearbox bearing Temperature  Intermediate shaft generator side  (rotor side)',\n",
       " 'Gearbox bearing Temperature High speed shaft rotor side',\n",
       " 'Gearbox bearing Temperature Intermediate shaft rotor side',\n",
       " 'Nacelle position',\n",
       " 'Power',\n",
       " 'Temp. bearing A',\n",
       " 'Temp. bearing B',\n",
       " 'Temp. gear box bearing',\n",
       " 'Temp. gearbox',\n",
       " 'Temp. shaft bearing',\n",
       " 'Temperature GBX Distributor',\n",
       " 'Wind direction',\n",
       " 'Wind speed']"
      ]
     },
     "execution_count": 45,
     "metadata": {},
     "output_type": "execute_result"
    }
   ],
   "source": [
    "column_names = full_df.Name.unique().tolist()\n",
    "\n",
    "column_names"
   ]
  },
  {
   "cell_type": "code",
   "execution_count": 46,
   "id": "08497bbc",
   "metadata": {},
   "outputs": [
    {
     "name": "stdout",
     "output_type": "stream",
     "text": [
      "<class 'pandas.core.frame.DataFrame'>\n",
      "RangeIndex: 9751528 entries, 0 to 9751527\n",
      "Data columns (total 4 columns):\n",
      " #   Column                Dtype         \n",
      "---  ------                -----         \n",
      " 0   TimeStampLocalSystem  datetime64[ns]\n",
      " 1   Name                  object        \n",
      " 2   Systemname            object        \n",
      " 3   Minute10Average       int64         \n",
      "dtypes: datetime64[ns](1), int64(1), object(2)\n",
      "memory usage: 297.6+ MB\n"
     ]
    }
   ],
   "source": [
    "full_df.info()"
   ]
  },
  {
   "cell_type": "code",
   "execution_count": 47,
   "id": "7442fd81",
   "metadata": {},
   "outputs": [
    {
     "data": {
      "text/plain": [
       "[nan,\n",
       " 'Hawa01',\n",
       " 'Hawa02',\n",
       " 'Hawa03',\n",
       " 'Hawa04',\n",
       " 'Hawa05',\n",
       " 'Hawa06',\n",
       " 'Hawa07',\n",
       " 'Hawa08',\n",
       " 'Hawa09',\n",
       " 'Hawa10',\n",
       " 'Hawa11',\n",
       " 'Hawa12',\n",
       " 'Hawa13',\n",
       " 'Hawa14',\n",
       " 'Hawa15',\n",
       " 'Hawa16',\n",
       " 'Hawa17',\n",
       " 'Hawa18',\n",
       " 'Hawa19',\n",
       " 'Hawa20',\n",
       " 'Hawa21',\n",
       " 'Hawa22',\n",
       " 'Hawa23',\n",
       " 'Hawa24',\n",
       " 'Hawa25',\n",
       " 'Hawa26',\n",
       " 'Hawa27',\n",
       " 'Hawa28',\n",
       " 'Hawa29']"
      ]
     },
     "execution_count": 47,
     "metadata": {},
     "output_type": "execute_result"
    }
   ],
   "source": [
    "unit_names = full_df.Systemname.unique().tolist()\n",
    "unit_names"
   ]
  },
  {
   "cell_type": "code",
   "execution_count": 48,
   "id": "4b00532f",
   "metadata": {},
   "outputs": [
    {
     "data": {
      "text/html": [
       "<div>\n",
       "<style scoped>\n",
       "    .dataframe tbody tr th:only-of-type {\n",
       "        vertical-align: middle;\n",
       "    }\n",
       "\n",
       "    .dataframe tbody tr th {\n",
       "        vertical-align: top;\n",
       "    }\n",
       "\n",
       "    .dataframe thead th {\n",
       "        text-align: right;\n",
       "    }\n",
       "</style>\n",
       "<table border=\"1\" class=\"dataframe\">\n",
       "  <thead>\n",
       "    <tr style=\"text-align: right;\">\n",
       "      <th></th>\n",
       "      <th>TimeStampLocalSystem</th>\n",
       "      <th>Name</th>\n",
       "      <th>Systemname</th>\n",
       "      <th>Minute10Average</th>\n",
       "    </tr>\n",
       "  </thead>\n",
       "  <tbody>\n",
       "    <tr>\n",
       "      <th>1</th>\n",
       "      <td>2019-10-01 00:10:00</td>\n",
       "      <td>Actual active power</td>\n",
       "      <td>NaN</td>\n",
       "      <td>10</td>\n",
       "    </tr>\n",
       "    <tr>\n",
       "      <th>469</th>\n",
       "      <td>2019-10-01 00:20:00</td>\n",
       "      <td>Actual active power</td>\n",
       "      <td>NaN</td>\n",
       "      <td>11</td>\n",
       "    </tr>\n",
       "    <tr>\n",
       "      <th>937</th>\n",
       "      <td>2019-10-01 00:30:00</td>\n",
       "      <td>Actual active power</td>\n",
       "      <td>NaN</td>\n",
       "      <td>18</td>\n",
       "    </tr>\n",
       "    <tr>\n",
       "      <th>1405</th>\n",
       "      <td>2019-10-01 00:40:00</td>\n",
       "      <td>Actual active power</td>\n",
       "      <td>NaN</td>\n",
       "      <td>27</td>\n",
       "    </tr>\n",
       "    <tr>\n",
       "      <th>1873</th>\n",
       "      <td>2019-10-01 00:50:00</td>\n",
       "      <td>Actual active power</td>\n",
       "      <td>NaN</td>\n",
       "      <td>25</td>\n",
       "    </tr>\n",
       "  </tbody>\n",
       "</table>\n",
       "</div>"
      ],
      "text/plain": [
       "     TimeStampLocalSystem                 Name Systemname  Minute10Average\n",
       "1     2019-10-01 00:10:00  Actual active power        NaN               10\n",
       "469   2019-10-01 00:20:00  Actual active power        NaN               11\n",
       "937   2019-10-01 00:30:00  Actual active power        NaN               18\n",
       "1405  2019-10-01 00:40:00  Actual active power        NaN               27\n",
       "1873  2019-10-01 00:50:00  Actual active power        NaN               25"
      ]
     },
     "execution_count": 48,
     "metadata": {},
     "output_type": "execute_result"
    }
   ],
   "source": [
    "actual_active_power_df = full_df.loc[full_df[\"Name\"] == \"Actual active power\"]\n",
    "actual_active_power_df.head()"
   ]
  },
  {
   "cell_type": "code",
   "execution_count": 49,
   "id": "ba2918e1",
   "metadata": {},
   "outputs": [
    {
     "name": "stdout",
     "output_type": "stream",
     "text": [
      "<class 'pandas.core.frame.DataFrame'>\n",
      "Int64Index: 22823 entries, 1 to 9751181\n",
      "Data columns (total 4 columns):\n",
      " #   Column                Non-Null Count  Dtype         \n",
      "---  ------                --------------  -----         \n",
      " 0   TimeStampLocalSystem  22823 non-null  datetime64[ns]\n",
      " 1   Name                  22823 non-null  object        \n",
      " 2   Systemname            0 non-null      object        \n",
      " 3   Minute10Average       22823 non-null  int64         \n",
      "dtypes: datetime64[ns](1), int64(1), object(2)\n",
      "memory usage: 891.5+ KB\n"
     ]
    }
   ],
   "source": [
    "actual_active_power_df.info()\n"
   ]
  },
  {
   "cell_type": "code",
   "execution_count": 50,
   "id": "36ce03c2",
   "metadata": {},
   "outputs": [],
   "source": [
    "actual_active_power_df_clean = actual_active_power_df.dropna()"
   ]
  },
  {
   "cell_type": "code",
   "execution_count": 51,
   "id": "4df4b0b8",
   "metadata": {},
   "outputs": [
    {
     "data": {
      "image/png": "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\n",
      "text/plain": [
       "<Figure size 720x432 with 1 Axes>"
      ]
     },
     "metadata": {
      "needs_background": "light"
     },
     "output_type": "display_data"
    }
   ],
   "source": [
    "# Plot data\n",
    "fig, ax = plt.subplots(figsize=(10, 6))\n",
    "plt.plot(actual_active_power_df_clean.TimeStampLocalSystem, actual_active_power_df_clean.Minute10Average)\n",
    "plt.show()\n",
    "\n",
    "ax.set_xlabel('Time')\n",
    "ax.set_ylabel('10 Min Avg')\n",
    "ax.set_title('Active Power')\n",
    "ax.grid(True)\n",
    "#ax.legend(loc='upper left')\n"
   ]
  },
  {
   "cell_type": "code",
   "execution_count": null,
   "id": "6315c43f",
   "metadata": {},
   "outputs": [],
   "source": []
  },
  {
   "cell_type": "code",
   "execution_count": null,
   "id": "0561df12",
   "metadata": {},
   "outputs": [],
   "source": []
  }
 ],
 "metadata": {
  "kernelspec": {
   "display_name": "mlenv",
   "language": "python",
   "name": "mlenv"
  },
  "language_info": {
   "codemirror_mode": {
    "name": "ipython",
    "version": 3
   },
   "file_extension": ".py",
   "mimetype": "text/x-python",
   "name": "python",
   "nbconvert_exporter": "python",
   "pygments_lexer": "ipython3",
   "version": "3.7.13"
  }
 },
 "nbformat": 4,
 "nbformat_minor": 5
}
